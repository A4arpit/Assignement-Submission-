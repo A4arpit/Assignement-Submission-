{
  "nbformat": 4,
  "nbformat_minor": 0,
  "metadata": {
    "colab": {
      "name": "Untitled0.ipynb",
      "provenance": [],
      "authorship_tag": "ABX9TyP+bEb2S0A+ZSN7Z0gS1Wb1",
      "include_colab_link": true
    },
    "kernelspec": {
      "name": "python3",
      "display_name": "Python 3"
    },
    "language_info": {
      "name": "python"
    }
  },
  "cells": [
    {
      "cell_type": "markdown",
      "metadata": {
        "id": "view-in-github",
        "colab_type": "text"
      },
      "source": [
        "<a href=\"https://colab.research.google.com/github/A4arpit/Assignement-Submission-/blob/main/Untitled0.ipynb\" target=\"_parent\"><img src=\"https://colab.research.google.com/assets/colab-badge.svg\" alt=\"Open In Colab\"/></a>"
      ]
    },
    {
      "cell_type": "code",
      "metadata": {
        "colab": {
          "base_uri": "https://localhost:8080/"
        },
        "id": "_infZfkuPBsN",
        "outputId": "9615bf41-577d-4b5d-c430-1bcdb6ccd7b0"
      },
      "source": [
        "print(\"hello world\")"
      ],
      "execution_count": 1,
      "outputs": [
        {
          "output_type": "stream",
          "text": [
            "hello world\n"
          ],
          "name": "stdout"
        }
      ]
    },
    {
      "cell_type": "code",
      "metadata": {
        "colab": {
          "base_uri": "https://localhost:8080/"
        },
        "cellView": "code",
        "id": "ZI-uUjxnPWwE",
        "outputId": "5fc5d477-f389-491e-8d7e-ac91a5febd11"
      },
      "source": [
        "#@title Default title text\n",
        "a = int(input('Enter base no.:'))\n",
        "b = int(input('Enter exponent no.'))\n",
        "print(pow(a,b))"
      ],
      "execution_count": 15,
      "outputs": [
        {
          "output_type": "stream",
          "text": [
            "Enter base no.:2\n",
            "Enter exponent no.3\n",
            "8\n"
          ],
          "name": "stdout"
        }
      ]
    }
  ]
}